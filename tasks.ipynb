{
 "cells": [
  {
   "cell_type": "code",
   "execution_count": 2,
   "metadata": {},
   "outputs": [],
   "source": [
    "import numpy as np"
   ]
  },
  {
   "cell_type": "markdown",
   "metadata": {},
   "source": [
    "1. Найти индексы ненулевых элементов в заданном массиве"
   ]
  },
  {
   "cell_type": "code",
   "execution_count": 81,
   "metadata": {},
   "outputs": [
    {
     "name": "stdout",
     "output_type": "stream",
     "text": [
      "[0 3 4 0 4 3 2 3 4 1 4 2 0 3 2 4 2 1 1 0]\n",
      "(array([ 1,  2,  4,  5,  6,  7,  8,  9, 10, 11, 13, 14, 15, 16, 17, 18],\n",
      "      dtype=int64),)\n"
     ]
    }
   ],
   "source": [
    "arr = np.random.randint(0,4+1,size=20)\n",
    "print(arr)\n",
    "result = np.nonzero(arr)\n",
    "print(result)"
   ]
  },
  {
   "cell_type": "markdown",
   "metadata": {},
   "source": [
    "2. Создать nxn единичную матрицу"
   ]
  },
  {
   "cell_type": "code",
   "execution_count": 4,
   "metadata": {},
   "outputs": [
    {
     "name": "stdout",
     "output_type": "stream",
     "text": [
      "4\n",
      "[[1 0 0 0]\n",
      " [0 1 0 0]\n",
      " [0 0 1 0]\n",
      " [0 0 0 1]]\n"
     ]
    }
   ],
   "source": [
    "n = np.random.randint(2,5+1)\n",
    "print(n)\n",
    "matrix = np.identity(n,dtype='int64')\n",
    "print(matrix)"
   ]
  },
  {
   "cell_type": "markdown",
   "metadata": {},
   "source": [
    "3. Создать массив nxnxn со случайными значениями"
   ]
  },
  {
   "cell_type": "code",
   "execution_count": 5,
   "metadata": {},
   "outputs": [
    {
     "name": "stdout",
     "output_type": "stream",
     "text": [
      "3\n",
      "[[[ -8   4  -4]\n",
      "  [ -9   2  -4]\n",
      "  [ -4   6  -3]]\n",
      "\n",
      " [[ -5   2  -2]\n",
      "  [ 10   3  -6]\n",
      "  [  3   5   8]]\n",
      "\n",
      " [[ -6  -4   5]\n",
      "  [-10  -9   8]\n",
      "  [  5   8  -9]]]\n"
     ]
    }
   ],
   "source": [
    "n = np.random.randint(1,4+1)\n",
    "print(n)\n",
    "arr = np.random.randint(-10,10+1,size=(n, n, n))\n",
    "print(arr)"
   ]
  },
  {
   "cell_type": "markdown",
   "metadata": {},
   "source": [
    "4. Создать вектор (одномерный массив) размера n, заполненный нулями"
   ]
  },
  {
   "cell_type": "code",
   "execution_count": 29,
   "metadata": {},
   "outputs": [
    {
     "name": "stdout",
     "output_type": "stream",
     "text": [
      "8\n",
      "[0 0 0 0 0 0 0 0]\n"
     ]
    }
   ],
   "source": [
    "n = np.random.randint(2, 10+1)\n",
    "print(n)\n",
    "vector = np.zeros((n), dtype='int64')\n",
    "print(vector)"
   ]
  },
  {
   "cell_type": "markdown",
   "metadata": {},
   "source": [
    "5. Создать вектор размера 1n, заполненный нулями, но пятый элемент равен 1"
   ]
  },
  {
   "cell_type": "code",
   "execution_count": 87,
   "metadata": {},
   "outputs": [
    {
     "name": "stdout",
     "output_type": "stream",
     "text": [
      "8\n",
      "[[0 0 0 0 1 0 0 0]]\n"
     ]
    }
   ],
   "source": [
    "n = np.random.randint(5, 10+1)\n",
    "print(n)\n",
    "vector = np.zeros((1,n), dtype='int64')\n",
    "vector[0,4] = 1\n",
    "print(vector)"
   ]
  },
  {
   "cell_type": "markdown",
   "metadata": {},
   "source": [
    "6. Создать вектор со значениями от n до m"
   ]
  },
  {
   "cell_type": "code",
   "execution_count": 44,
   "metadata": {},
   "outputs": [
    {
     "name": "stdout",
     "output_type": "stream",
     "text": [
      "[2 3 4 5 6 7 8]\n"
     ]
    }
   ],
   "source": [
    "n = int(input())\n",
    "m = int(input())\n",
    "vector = np.arange(n,m+1,dtype='int64')\n",
    "print(vector)"
   ]
  },
  {
   "cell_type": "markdown",
   "metadata": {},
   "source": [
    "7. Развернуть одномерный массив (первый становится последним)"
   ]
  },
  {
   "cell_type": "code",
   "execution_count": 62,
   "metadata": {},
   "outputs": [
    {
     "name": "stdout",
     "output_type": "stream",
     "text": [
      "[9 4 1 5 8]\n",
      "[8 5 1 4 9]\n"
     ]
    }
   ],
   "source": [
    "arr = np.random.randint(10,size=5)\n",
    "print(arr)\n",
    "arr = np.flip(arr)\n",
    "print(arr)"
   ]
  },
  {
   "cell_type": "markdown",
   "metadata": {},
   "source": [
    "8. Создать матрицу с 0 внутри, и 1 на границах"
   ]
  },
  {
   "cell_type": "code",
   "execution_count": 65,
   "metadata": {},
   "outputs": [
    {
     "name": "stdout",
     "output_type": "stream",
     "text": [
      "4 4\n",
      "[[1 1 1 1]\n",
      " [1 1 1 1]\n",
      " [1 1 1 1]\n",
      " [1 1 1 1]]\n",
      "\n",
      "[[1 1 1 1]\n",
      " [1 0 0 1]\n",
      " [1 0 0 1]\n",
      " [1 1 1 1]]\n"
     ]
    }
   ],
   "source": [
    "n = np.random.randint(2,5+1)\n",
    "m = np.random.randint(2,5+1)\n",
    "print(n,m)\n",
    "matrix = np.ones((n,m),dtype='int64')\n",
    "print(matrix)\n",
    "print()\n",
    "if (n != 2) and (m != 2):\n",
    "    matrix[1:-1, 1:-1] = 0\n",
    "    print(matrix)\n"
   ]
  },
  {
   "cell_type": "markdown",
   "metadata": {},
   "source": [
    "9. Создать nxn матрицу с 1,2,..,n-1 под диагональю"
   ]
  },
  {
   "cell_type": "code",
   "execution_count": 56,
   "metadata": {},
   "outputs": [
    {
     "name": "stdout",
     "output_type": "stream",
     "text": [
      "6\n",
      "[[0 0 0 0 0 0]\n",
      " [1 0 0 0 0 0]\n",
      " [0 2 0 0 0 0]\n",
      " [0 0 3 0 0 0]\n",
      " [0 0 0 4 0 0]\n",
      " [0 0 0 0 5 0]]\n"
     ]
    }
   ],
   "source": [
    "n = np.random.randint(2,10+1)\n",
    "print(n)\n",
    "matrix = np.arange(1,n+1,dtype='int64')  * np.eye(n,k=-1,dtype='int64') \n",
    "print(matrix)"
   ]
  },
  {
   "cell_type": "markdown",
   "metadata": {},
   "source": [
    "10. Создать nxn матрицу и заполнить её в шахматном порядке"
   ]
  },
  {
   "cell_type": "code",
   "execution_count": 76,
   "metadata": {},
   "outputs": [
    {
     "name": "stdout",
     "output_type": "stream",
     "text": [
      "8\n",
      "[[1 0 1 0 1 0 1 0]\n",
      " [0 1 0 1 0 1 0 1]\n",
      " [1 0 1 0 1 0 1 0]\n",
      " [0 1 0 1 0 1 0 1]\n",
      " [1 0 1 0 1 0 1 0]\n",
      " [0 1 0 1 0 1 0 1]\n",
      " [1 0 1 0 1 0 1 0]\n",
      " [0 1 0 1 0 1 0 1]]\n"
     ]
    }
   ],
   "source": [
    "n = np.random.randint(2, 8+1)\n",
    "print(n)\n",
    "matrix = np.zeros((n,n), dtype='int64')\n",
    "matrix[::2,::2] = 1\n",
    "matrix[1::2,1::2] = 1\n",
    "print(matrix)"
   ]
  },
  {
   "cell_type": "markdown",
   "metadata": {},
   "source": [
    "11. Заменить максимальный элемент на ноль\n"
   ]
  },
  {
   "cell_type": "code",
   "execution_count": 177,
   "metadata": {},
   "outputs": [
    {
     "name": "stdout",
     "output_type": "stream",
     "text": [
      "[-1 10 -6 10  9 -6  0 -6]\n",
      "[[1]\n",
      " [3]]\n",
      "[-1  0 -6  0  9 -6  0 -6]\n"
     ]
    }
   ],
   "source": [
    "arr = np.random.randint(-10,10+1,size= np.random.randint(2,10+1))\n",
    "print(arr)\n",
    "index_max = np.argwhere(arr == np.amax(arr))\n",
    "print(index_max)\n",
    "arr[index_max]=0\n",
    "print(arr)"
   ]
  },
  {
   "cell_type": "markdown",
   "metadata": {},
   "source": [
    "12. Найти ближайшее к заданному значению число в заданном массиве"
   ]
  },
  {
   "cell_type": "code",
   "execution_count": 191,
   "metadata": {},
   "outputs": [
    {
     "name": "stdout",
     "output_type": "stream",
     "text": [
      "6\n",
      "[ 8  4 -2  7  6  2  4]\n",
      "[2 2 8 1 0 4 2]\n",
      "[[4]]\n"
     ]
    }
   ],
   "source": [
    "value = np.random.randint(-10,10+1)\n",
    "print(value)\n",
    "arr = np.random.randint(-10,10+1,size= np.random.randint(2,10+1))\n",
    "print(arr)\n",
    "index_abs = np.abs(arr - value)\n",
    "print(index_abs)\n",
    "index_min = np.argwhere(index_abs == np.amin(index_abs))\n",
    "print(index_min)"
   ]
  },
  {
   "cell_type": "markdown",
   "metadata": {},
   "source": [
    "13. Дан четырехмерный массив, посчитать сумму по последним двум осям"
   ]
  },
  {
   "cell_type": "code",
   "execution_count": 208,
   "metadata": {},
   "outputs": [
    {
     "name": "stdout",
     "output_type": "stream",
     "text": [
      "[[[[0 0 4 4 9]\n",
      "   [3 4 5 7 7]\n",
      "   [8 7 7 4 3]\n",
      "   [9 9 5 5 8]]\n",
      "\n",
      "  [[1 0 7 6 2]\n",
      "   [2 6 3 5 9]\n",
      "   [6 9 0 9 3]\n",
      "   [7 4 5 2 2]]\n",
      "\n",
      "  [[4 7 2 5 1]\n",
      "   [8 8 6 5 9]\n",
      "   [0 8 0 3 8]\n",
      "   [1 8 2 2 5]]]\n",
      "\n",
      "\n",
      " [[[3 8 7 0 9]\n",
      "   [6 7 5 4 3]\n",
      "   [0 5 4 8 5]\n",
      "   [0 7 4 9 5]]\n",
      "\n",
      "  [[9 8 3 4 7]\n",
      "   [0 9 3 6 8]\n",
      "   [4 8 4 3 8]\n",
      "   [7 3 2 5 3]]\n",
      "\n",
      "  [[4 1 2 0 5]\n",
      "   [4 1 8 7 2]\n",
      "   [2 1 6 9 0]\n",
      "   [7 9 5 5 7]]]]\n",
      "[[108  88  92]\n",
      " [ 99 104  85]]\n"
     ]
    }
   ],
   "source": [
    "arr = np.random.randint(0, 10, size=(2, 3, 4, 5))\n",
    "print(arr)\n",
    "result = np.sum(arr,axis=(-2,-1))\n",
    "print(result)"
   ]
  },
  {
   "cell_type": "markdown",
   "metadata": {},
   "source": [
    "14. Определить, есть ли в 2D массиве нулевые столбцы"
   ]
  },
  {
   "cell_type": "code",
   "execution_count": 214,
   "metadata": {},
   "outputs": [
    {
     "name": "stdout",
     "output_type": "stream",
     "text": [
      "[False  True False]\n"
     ]
    }
   ],
   "source": [
    "arr = np.array([[1, 0, 3],\n",
    "                [4, 0, 6],\n",
    "                [7, 0, 9]])\n",
    "\n",
    "result = np.all(arr == 0, axis=0)\n",
    "\n",
    "print(result)"
   ]
  },
  {
   "cell_type": "markdown",
   "metadata": {},
   "source": [
    "15. Отнять среднее из каждой строки в матрице"
   ]
  },
  {
   "cell_type": "code",
   "execution_count": 261,
   "metadata": {},
   "outputs": [
    {
     "name": "stdout",
     "output_type": "stream",
     "text": [
      "5 5\n",
      "[[5 7 5 3 0]\n",
      " [4 6 0 5 0]\n",
      " [0 3 1 6 0]\n",
      " [1 0 5 1 0]\n",
      " [5 5 3 2 5]]\n",
      "[[4. ]\n",
      " [3. ]\n",
      " [2. ]\n",
      " [1.4]\n",
      " [4. ]]\n",
      "[[ 1.   3.   1.  -1.  -4. ]\n",
      " [ 1.   3.  -3.   2.  -3. ]\n",
      " [-2.   1.  -1.   4.  -2. ]\n",
      " [-0.4 -1.4  3.6 -0.4 -1.4]\n",
      " [ 1.   1.  -1.  -2.   1. ]]\n"
     ]
    }
   ],
   "source": [
    "n = np.random.randint(2,5+1)\n",
    "m = np.random.randint(2,5+1)\n",
    "print(n,m)\n",
    "matrix = np.random.randint(0, 10, size=(n,m))\n",
    "print(matrix)\n",
    "result = np.mean(matrix, axis=1, keepdims=True)\n",
    "print(result)\n",
    "print(matrix - result)"
   ]
  }
 ],
 "metadata": {
  "kernelspec": {
   "display_name": "base",
   "language": "python",
   "name": "python3"
  },
  "language_info": {
   "codemirror_mode": {
    "name": "ipython",
    "version": 3
   },
   "file_extension": ".py",
   "mimetype": "text/x-python",
   "name": "python",
   "nbconvert_exporter": "python",
   "pygments_lexer": "ipython3",
   "version": "3.11.5"
  }
 },
 "nbformat": 4,
 "nbformat_minor": 2
}
